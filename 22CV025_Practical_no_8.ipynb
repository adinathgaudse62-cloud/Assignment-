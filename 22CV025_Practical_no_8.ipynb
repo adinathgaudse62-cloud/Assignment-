{
  "nbformat": 4,
  "nbformat_minor": 0,
  "metadata": {
    "colab": {
      "provenance": [],
      "authorship_tag": "ABX9TyMQe5TvcYKSY/6b6dtzzFsq",
      "include_colab_link": true
    },
    "kernelspec": {
      "name": "python3",
      "display_name": "Python 3"
    },
    "language_info": {
      "name": "python"
    }
  },
  "cells": [
    {
      "cell_type": "markdown",
      "metadata": {
        "id": "view-in-github",
        "colab_type": "text"
      },
      "source": [
        "<a href=\"https://colab.research.google.com/github/adinathgaudse62-cloud/Assignment-/blob/main/22CV025_Practical_no_8.ipynb\" target=\"_parent\"><img src=\"https://colab.research.google.com/assets/colab-badge.svg\" alt=\"Open In Colab\"/></a>"
      ]
    },
    {
      "cell_type": "code",
      "execution_count": null,
      "metadata": {
        "id": "IY5moO-0pF98",
        "colab": {
          "base_uri": "https://localhost:8080/"
        },
        "outputId": "7ac88c7c-18b3-4a15-b637-569d92433751"
      },
      "outputs": [
        {
          "output_type": "stream",
          "name": "stdout",
          "text": [
            "Enter the volume of H2S04 required in ml : 30\n",
            "Enter the value of sample in litres : 0.2\n",
            "Alkalinity Removed :  30.0  mg\n",
            "Total Alkalinity :  150.0  mg/lit\n",
            "Enter thevalue of OH-Alkalinitypresent : 5\n",
            "Enter the volume of H2S04 required in ml : 11\n",
            "AlIkalinity Removed :  11.0  mg\n",
            "Carbonate Alkalinity upto pH8.3 :  55.0  mg/lit\n",
            "Carbonate Alkalinity :  50.0  mg/lit\n",
            "Bicarbonate Alkalinity :  45.0  mg/it\n"
          ]
        }
      ],
      "source": [
        "#To determine alkalinity of given sample\n",
        "H2S04_reg = float(input(\"Enter the volume of H2S04 required in ml : \"))\n",
        "Sample = float(input(\"Enter the value of sample in litres : \"))\n",
        "Alkalinity_Removed = H2S04_reg\n",
        "print(\"Alkalinity Removed : \", Alkalinity_Removed, \" mg\")\n",
        "Alk_mgperlit = Alkalinity_Removed / Sample\n",
        "print(\"Total Alkalinity : \", round(Alk_mgperlit,3), \" mg/lit\")\n",
        "OH = float (input(\"Enter thevalue of OH-Alkalinitypresent : \"))\n",
        "\n",
        "#Alkalinity removed till pH of 8.3\n",
        "H2S04_req = float(input(\"Enter the volume of H2S04 required in ml : \"))\n",
        "Alkalinity_Removed = H2S04_req\n",
        "print(\"AlIkalinity Removed : \", Alkalinity_Removed ,\" mg\")\n",
        "Co3_Combined = Alkalinity_Removed/Sample\n",
        "print (\"Carbonate Alkalinity upto pH8.3 : \", round(Co3_Combined,3), \" mg/lit\")\n",
        "Co3 = Co3_Combined - OH\n",
        "print(\"Carbonate Alkalinity : \", Co3,\" mg/lit\")\n",
        "HCO3 = Alk_mgperlit - 2*Co3- OH\n",
        "print(\"Bicarbonate Alkalinity : \", round(HCO3,3), \" mg/it\")"
      ]
    }
  ]
}