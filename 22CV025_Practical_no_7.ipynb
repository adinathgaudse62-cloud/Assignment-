{
  "nbformat": 4,
  "nbformat_minor": 0,
  "metadata": {
    "colab": {
      "provenance": [],
      "authorship_tag": "ABX9TyOdxt54gV2VeJwgCItK4OeW",
      "include_colab_link": true
    },
    "kernelspec": {
      "name": "python3",
      "display_name": "Python 3"
    },
    "language_info": {
      "name": "python"
    }
  },
  "cells": [
    {
      "cell_type": "markdown",
      "metadata": {
        "id": "view-in-github",
        "colab_type": "text"
      },
      "source": [
        "<a href=\"https://colab.research.google.com/github/adinathgaudse62-cloud/Assignment-/blob/main/22CV025_Practical_no_7.ipynb\" target=\"_parent\"><img src=\"https://colab.research.google.com/assets/colab-badge.svg\" alt=\"Open In Colab\"/></a>"
      ]
    },
    {
      "cell_type": "code",
      "source": [
        "#Q1)\n",
        "# To Determine the bearing capacity of soil with water table\n",
        "BulkDensity = float(input(\"Enter the value of Bulk Density of soil:\"))\n",
        "SatDensity = float(input(\"Enter the value of Saturated Density of soil:\"))\n",
        "WaterDensity = float(input(\"Enter the unit Weight of Water:\"))\n",
        "Df = float(input(\"Enter the value of depth of footing:\"))\n",
        "Dw = float(input(\"Enter the value of water table above footing level:\"))\n",
        "Dw1 = float(input(\"Enter the value of Water table below the level of footing:\"))\n",
        "B = float(input(\"Enter the value of width of footing:\"))\n",
        "Nq = float(input(\"Enter the value of Nq:\"))\n",
        "N = float(input(\"Enter the value of N ganna (N):\"))\n",
        "SubDensity = SatDensity - WaterDensity\n",
        "print(\"Submerged Weight of soil is:\", SubDensity)\n",
        "\n",
        "# The bearing capacity of soil when water table is at ground\n",
        "print(\"CASE A\")\n",
        "# Assuming Ng is N for this case based on context.\n",
        "Ng = N\n",
        "qu = (SubDensity * Df * Nq) + (0.5 * 0.8 * B * SubDensity * N)\n",
        "print(\"The value of ultimate bearing capacity of soil is:\", qu)\n",
        "print(\"Approximate calculation of Bearing capacity of soil is.\")\n",
        "Rw = 0.5 + 0.5 * (Dw / B)\n",
        "print(\"The value of Rw is:\", Rw)\n",
        "Rw1 = 0.5 + 0.5 * (Dw1 / B)\n",
        "print(\"The value of Rw1 is:\", Rw1)\n",
        "qu = (BulkDensity * Df * Nq * Rw) + (0.5 * 0.8 * B * BulkDensity * N * Rw1)\n",
        "print(\"The value ultimate bearing capacity of soil is:\", qu)\n",
        "\n",
        "# Case B\n",
        "print(\"CASE B\")\n",
        "qu = (BulkDensity * Df * Nq) + (0.5 * 0.8 * B * SubDensity * N) # Assuming Ng is N for this case\n",
        "print(\"The value of ultimate bearing capacity is:\", qu)\n",
        "\n",
        "# There seem to be duplicate inputs and calculations for CASE B.\n",
        "# I will comment out the repeated part and keep the calculation.\n",
        "# Dw = float(input(\"Enter the value of water table above footing level:\"))\n",
        "# Dw1 = float(input(\" Enter the value of Water table below the level of footing: \"))\n",
        "# print (\"The approximate value of ultimate bearing capacity is: \")\n",
        "\n",
        "# Rw = 0.5 + 0.5 * (Dw / B)\n",
        "# print (\"The value of Rw is:\", Rw)\n",
        "# Rw1 = 0.5 + 0.5 * (Dw1 / B)\n",
        "# print (\"The value of Rw1 is:\", Rw1)\n",
        "# qu = (BulkDensity * Df * Nq * Rw) + (0.5 * 0.8 * B * BulkDensity * N * Rw1)\n",
        "# print (\"The approximate value of ultimate hearing capacity is: \", qu)\n",
        "\n",
        "\n",
        "# Case C\n",
        "print(\"CASE C\")\n",
        "x = float(input(\"Enter the value of depth of water below footing:\"))\n",
        "# Assuming Ng is N for this case. Also corrected the formula based on typical bearing capacity equations.\n",
        "qu = (BulkDensity * Df * Nq) + (0.5 * 0.8 * B * ((BulkDensity * x) + (SubDensity * (B-x))) * N)\n",
        "print(\"The value of ultimate bearing capacity is:\", qu)\n",
        "\n",
        "# There seem to be duplicate inputs and calculations for CASE C as well.\n",
        "# I will comment out the repeated part and keep the calculation.\n",
        "# Dw = float(input(\"Enter the value of water table above footing level:\"))\n",
        "# Dw1 = float(input(\"Enter the value of Water table below the level of footing:'\"))\n",
        "# print(\"The approximate value of ultimate bearing capacity is:\")\n",
        "# Rw = 0.5 + 0.5 * (Dw / B)\n",
        "# print(\"The value of Rw is:\", Rw)\n",
        "# Rw1 = 0.5 + 0.5 * (Dw1 / B)\n",
        "# print(\"The value of Rw1 is: \", Rw1)\n",
        "# qu = (BulkDensity * Df * Nq * Rw) + (0.5 * 0.8 * B * BulkDensity * N * Rw1)\n",
        "# print(\"the value of ultimate bearing capaciy is:\", qu)"
      ],
      "metadata": {
        "colab": {
          "base_uri": "https://localhost:8080/"
        },
        "id": "8xR4iENlfFWj",
        "outputId": "4b6bf51c-258c-4f2f-b69c-20acd8c2c29b"
      },
      "execution_count": null,
      "outputs": [
        {
          "output_type": "stream",
          "name": "stdout",
          "text": [
            "Enter the value of Bulk Density of soil:18\n",
            "Enter the value of Saturated Density of soil:20\n",
            "Enter the unit Weight of Water:10\n",
            "Enter the value of depth of footing:2\n",
            "Enter the value of water table above footing level:0\n",
            "Enter the value of Water table below the level of footing:0\n",
            "Enter the value of width of footing:3\n",
            "Enter the value of Nq:33\n",
            "Enter the value of N ganna (N):34\n",
            "Submerged Weight of soil is: 10.0\n",
            "CASE A\n",
            "The value of ultimate bearing capacity of soil is: 1068.0\n",
            "Approximate calculation of Bearing capacity of soil is.\n",
            "The value of Rw is: 0.5\n",
            "The value of Rw1 is: 0.5\n",
            "The value ultimate bearing capacity of soil is: 961.2\n",
            "CASE B\n",
            "The value of ultimate bearing capacity is: 1596.0\n",
            "CASE C\n",
            "Enter the value of depth of water below footing:10\n",
            "The value of ultimate bearing capacity is: 5676.000000000001\n"
          ]
        }
      ]
    },
    {
      "cell_type": "code",
      "source": [
        "# To Determine the bearing capacity of soil with water table\n",
        "BulkDensity = float(input(\"Enter the value of Bulk Density of soil:\"))\n",
        "SatDensity = float(input(\"Enter the value of Saturated Density of soil:\"))\n",
        "WaterDensity = float(input(\"Enter the unit Weight of Water:\"))\n",
        "Df = float(input(\"Enter the value of depth of footing:\"))\n",
        "B = float(input(\"Enter the value of width of footing:\"))\n",
        "Nq = float(input(\"Enter the value of Nq:\")) # Assuming Nq is needed here\n",
        "Ng = float(input(\"Enter the value of Ng:\"))\n",
        "N_Gamma = float(input(\"Enter the value of N gamma (N):\"))\n",
        "SubDensity = SatDensity - WaterDensity\n",
        "print(\"Submerged Weight of soil is:\", SubDensity)\n",
        "M = int(input(\"Number of data values of Water table above footing level: \"))\n",
        "N = int(input(\"Number of data values of Water table below footing level: \"))\n",
        "Dw = []\n",
        "Dw1 = []\n",
        "for i in range(M):\n",
        "    print(\"Enter the value of water table above footing level measured w.r.t. ground (Dw):\")\n",
        "    Depth_Dw = float(input())\n",
        "    Dw.append(Depth_Dw)\n",
        "    Rw = 0.5 + 0.5 * (Depth_Dw / B)\n",
        "    print(\"The value of Rw is:\", Rw)\n",
        "for j in range(N):\n",
        "    print(\"Enter the value of water table below footing level measured w.r.t. ground (Dw1):\")\n",
        "    Depth_Dw1 = float(input())\n",
        "    Dw1.append(Depth_Dw1)\n",
        "    Rw1 = 0.5 + 0.5 * (Depth_Dw1 / B)\n",
        "    print(\"The value of Rw1 is:\", Rw1)\n",
        "    # This calculation seems to be inside the loop for Dw1, which might not be intended.\n",
        "    # qu = (BulkDensity * Df * Nq * Rw) + (0.5 * 0.8 * B * BulkDensity * N_Gamma * Rw1)\n",
        "    # print(\"qu: \", qu, \"kN/m^2\")\n",
        "\n",
        "# Assuming the final calculation of qu should happen after the loops\n",
        "# The calculation below uses the last values of Rw and Rw1 from the loops.\n",
        "# You might want to store Rw and Rw1 values in lists as well if you need to perform calculations for each input.\n",
        "# For now, I will calculate qu using the last values of Rw and Rw1.\n",
        "qu = (BulkDensity * Df * Nq * Rw) + (0.5 * 0.8 * B * BulkDensity * N_Gamma * Rw1)\n",
        "print(\"qu: \", qu, \"kN/m^2\")"
      ],
      "metadata": {
        "colab": {
          "base_uri": "https://localhost:8080/"
        },
        "id": "_9tJ5vEZgo-s",
        "outputId": "3e04b1af-8ef5-406f-9cbb-983a0d8fd039"
      },
      "execution_count": null,
      "outputs": [
        {
          "output_type": "stream",
          "name": "stdout",
          "text": [
            "Enter the value of Bulk Density of soil:18\n",
            "Enter the value of Saturated Density of soil:20\n",
            "Enter the unit Weight of Water:10\n",
            "Enter the value of depth of footing:2\n",
            "Enter the value of width of footing:3\n",
            "Enter the value of Nq:33\n",
            "Enter the value of Ng:34\n",
            "Enter the value of N gamma (N):34\n",
            "Submerged Weight of soil is: 10.0\n",
            "Number of data values of Water table above footing level: 3\n",
            "Number of data values of Water table below footing level: 3\n",
            "Enter the value of water table above footing level measured w.r.t. ground (Dw):\n",
            "0\n",
            "The value of Rw is: 0.5\n",
            "Enter the value of water table above footing level measured w.r.t. ground (Dw):\n",
            "1\n",
            "The value of Rw is: 0.6666666666666666\n",
            "Enter the value of water table above footing level measured w.r.t. ground (Dw):\n",
            "2\n",
            "The value of Rw is: 0.8333333333333333\n",
            "Enter the value of water table below footing level measured w.r.t. ground (Dw1):\n",
            "0\n",
            "The value of Rw1 is: 0.5\n",
            "Enter the value of water table below footing level measured w.r.t. ground (Dw1):\n",
            "0\n",
            "The value of Rw1 is: 0.5\n",
            "Enter the value of water table below footing level measured w.r.t. ground (Dw1):\n",
            "1\n",
            "The value of Rw1 is: 0.6666666666666666\n",
            "qu:  1479.6 kN/m^2\n"
          ]
        }
      ]
    }
  ]
}