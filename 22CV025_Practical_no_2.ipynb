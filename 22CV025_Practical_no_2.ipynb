{
  "nbformat": 4,
  "nbformat_minor": 0,
  "metadata": {
    "colab": {
      "provenance": [],
      "authorship_tag": "ABX9TyN66Xp2jJLJ8GWpuTU7Xk/k",
      "include_colab_link": true
    },
    "kernelspec": {
      "name": "python3",
      "display_name": "Python 3"
    },
    "language_info": {
      "name": "python"
    }
  },
  "cells": [
    {
      "cell_type": "markdown",
      "metadata": {
        "id": "view-in-github",
        "colab_type": "text"
      },
      "source": [
        "<a href=\"https://colab.research.google.com/github/adinathgaudse62-cloud/Assignment-/blob/main/22CV025_Practical_no_2.ipynb\" target=\"_parent\"><img src=\"https://colab.research.google.com/assets/colab-badge.svg\" alt=\"Open In Colab\"/></a>"
      ]
    },
    {
      "cell_type": "code",
      "execution_count": null,
      "metadata": {
        "colab": {
          "base_uri": "https://localhost:8080/"
        },
        "id": "6tRQl8uwuqh3",
        "outputId": "de3131b3-5004-4ad7-e770-296590598b0c"
      },
      "outputs": [
        {
          "output_type": "stream",
          "name": "stdout",
          "text": [
            "Enter the value of initial Infiltration Rate (fo in mm/hr): 6\n",
            "Enter the value of final Infiltration Rate (fc in mm/hr): 1.2\n",
            "Enter the value of Time (t in hours): 0.888\n",
            "Enter the value of Decay Coefficient (kh): 8\n",
            "The value of Total Infiltration (Fp) is: 1.665 mm\n"
          ]
        }
      ],
      "source": [
        "# Q-1: Calculation of Total Infiltration by Horton's Equation\n",
        "\n",
        "# Input values\n",
        "fo = float(input(\"Enter the value of initial Infiltration Rate (fo in mm/hr): \"))\n",
        "fc = float(input(\"Enter the value of final Infiltration Rate (fc in mm/hr): \"))\n",
        "t = float(input(\"Enter the value of Time (t in hours): \"))\n",
        "kh = float(input(\"Enter the value of Decay Coefficient (kh): \"))\n",
        "\n",
        "# Horton's Equation for total infiltration:\n",
        "# Fp = fc * t + ((fo - fc) / kh) * (1 - e^(-kh * t))\n",
        "\n",
        "import math\n",
        "\n",
        "Fp = fc * t + ((fo - fc) / kh) * (1 - math.exp(-kh * t))\n",
        "print(\"The value of Total Infiltration (Fp) is:\", round(Fp, 3), \"mm\")"
      ]
    },
    {
      "cell_type": "code",
      "source": [
        "# Q2: Calculation of Mean Precipitation by Thiessen's Polygon Method\n",
        "\n",
        "# Rainfall at each station (in mm)\n",
        "p1 = float(input(\"Enter the value of rainfall at Station 1 (mm): \"))\n",
        "p2 = float(input(\"Enter the value of rainfall at Station 2 (mm): \"))\n",
        "p3 = float(input(\"Enter the value of rainfall at Station 3 (mm): \"))\n",
        "p4 = float(input(\"Enter the value of rainfall at Station 4 (mm): \"))\n",
        "p5 = float(input(\"Enter the value of rainfall at Station 5 (mm): \"))\n",
        "\n",
        "# Catchment area associated with each station (in sq. km)\n",
        "A1 = float(input(\"Enter the value of Catchment Area for Station 1 (sq.km): \"))\n",
        "A2 = float(input(\"Enter the value of Catchment Area for Station 2 (sq.km): \"))\n",
        "A3 = float(input(\"Enter the value of Catchment Area for Station 3 (sq.km): \"))\n",
        "A4 = float(input(\"Enter the value of Catchment Area for Station 4 (sq.km): \"))\n",
        "A5 = float(input(\"Enter the value of Catchment Area for Station 5 (sq.km): \"))\n",
        "\n",
        "# Total Catchment Area\n",
        "A = A1 + A2 + A3 + A4 + A5\n",
        "print(\"The value of Total Catchment Area is:\", A, \"sq.km\")\n",
        "\n",
        "# Runoff Volume calculation (scaled by factor 2500)\n",
        "V = (p1 * A1 + p2 * A2 + p3 * A3 + p4 * A4 + p5 * A5) * 2500\n",
        "print(\"The runoff volume from the given catchment is:\", V, \"m³ (approx)\")\n",
        "\n",
        "# Mean Precipitation using Thiessen's method\n",
        "p = (p1 * A1 + p2 * A2 + p3 * A3 + p4 * A4 + p5 * A5) / A\n",
        "print(\"The value of Mean Precipitation is:\", round(p, 2), \"mm\")"
      ],
      "metadata": {
        "colab": {
          "base_uri": "https://localhost:8080/"
        },
        "id": "Be9z_D3yvRPv",
        "outputId": "126fa4a7-edd3-45ad-c1d6-abd78bf23d7e"
      },
      "execution_count": null,
      "outputs": [
        {
          "output_type": "stream",
          "name": "stdout",
          "text": [
            "Enter the value of rainfall at Station 1 (mm): 125\n",
            "Enter the value of rainfall at Station 2 (mm): 175\n",
            "Enter the value of rainfall at Station 3 (mm): 225\n",
            "Enter the value of rainfall at Station 4 (mm): 275\n",
            "Enter the value of rainfall at Station 5 (mm): 325\n",
            "Enter the value of Catchment Area for Station 1 (sq.km): 25\n",
            "Enter the value of Catchment Area for Station 2 (sq.km): 30\n",
            "Enter the value of Catchment Area for Station 3 (sq.km): 30\n",
            "Enter the value of Catchment Area for Station 4 (sq.km): 10\n",
            "Enter the value of Catchment Area for Station 5 (sq.km): 5\n",
            "The value of Total Catchment Area is: 100.0 sq.km\n",
            "The runoff volume from the given catchment is: 48750000.0 m³ (approx)\n",
            "The value of Mean Precipitation is: 195.0 mm\n"
          ]
        }
      ]
    },
    {
      "cell_type": "code",
      "source": [
        "# A3: Calculation of Mean Precipitation by Isohyetal Method\n",
        "\n",
        "# Rainfall between isohyets (average of adjacent isohyet values)\n",
        "p1 = int(input(\"Enter the value of rainfall at Station 1 (mm): \"))\n",
        "p2 = int(input(\"Enter the value of rainfall at Station 2 (mm): \"))\n",
        "p3 = int(input(\"Enter the value of rainfall at Station 3 (mm): \"))\n",
        "p4 = int(input(\"Enter the value of rainfall at Station 4 (mm): \"))\n",
        "p5 = int(input(\"Enter the value of rainfall at Station 5 (mm): \"))\n",
        "p6 = int(input(\"Enter the value of rainfall at Station 6 (mm): \"))\n",
        "p7 = int(input(\"Enter the value of rainfall at Station 7 (mm): \"))\n",
        "p8 = int(input(\"Enter the value of rainfall at Station 8 (mm): \"))\n",
        "\n",
        "# Area between isohyets (in sq.km)\n",
        "A1 = int(input(\"Enter the value of catchment area between p1 & p2 (A1 in sq.km): \"))\n",
        "A2 = int(input(\"Enter the value of catchment area between p2 & p3 (A2 in sq.km): \"))\n",
        "A3 = int(input(\"Enter the value of catchment area between p3 & p4 (A3 in sq.km): \"))\n",
        "A4 = int(input(\"Enter the value of catchment area between p4 & p5 (A4 in sq.km): \"))\n",
        "A5 = int(input(\"Enter the value of catchment area between p5 & p6 (A5 in sq.km): \"))\n",
        "A6 = int(input(\"Enter the value of catchment area between p6 & p7 (A6 in sq.km): \"))\n",
        "A7 = int(input(\"Enter the value of catchment area between p7 & p8 (A7 in sq.km): \"))\n",
        "\n",
        "# Total catchment area\n",
        "A = A1 + A2 + A3 + A4 + A5 + A6 + A7\n",
        "print(\"The value of Total Catchment Area is:\", A, \"sq.km\")\n",
        "\n",
        "# Mean Precipitation using Isohyetal Method:\n",
        "p = (\n",
        "    ((p1 + p2) * A1 / 2) +\n",
        "    ((p2 + p3) * A2 / 2) +\n",
        "    ((p3 + p4) * A3 / 2) +\n",
        "    ((p4 + p5) * A4 / 2) +\n",
        "    ((p5 + p6) * A5 / 2) +\n",
        "    ((p6 + p7) * A6 / 2) +\n",
        "    ((p7 + p8) * A7 / 2)\n",
        ") / A\n",
        "\n",
        "print(\"The value of Mean Precipitation is:\", round(p, 2), \"mm\")\n"
      ],
      "metadata": {
        "id": "y7c973wVwecX",
        "colab": {
          "base_uri": "https://localhost:8080/"
        },
        "outputId": "b5df180c-6558-407b-f343-9f4817d6d1b2"
      },
      "execution_count": null,
      "outputs": [
        {
          "output_type": "stream",
          "name": "stdout",
          "text": [
            "Enter the value of rainfall at Station 1 (mm): 14\n",
            "Enter the value of rainfall at Station 2 (mm): 12\n",
            "Enter the value of rainfall at Station 3 (mm): 10\n",
            "Enter the value of rainfall at Station 4 (mm): 8\n",
            "Enter the value of rainfall at Station 5 (mm): 6\n",
            "Enter the value of rainfall at Station 6 (mm): 4\n",
            "Enter the value of rainfall at Station 7 (mm): 2\n",
            "Enter the value of rainfall at Station 8 (mm): 0\n",
            "Enter the value of catchment area between p1 & p2 (A1 in sq.km): 90\n",
            "Enter the value of catchment area between p2 & p3 (A2 in sq.km): 140\n",
            "Enter the value of catchment area between p3 & p4 (A3 in sq.km): 125\n",
            "Enter the value of catchment area between p4 & p5 (A4 in sq.km): 140\n",
            "Enter the value of catchment area between p5 & p6 (A5 in sq.km): 85\n",
            "Enter the value of catchment area between p6 & p7 (A6 in sq.km): 40\n",
            "Enter the value of catchment area between p7 & p8 (A7 in sq.km): 20\n",
            "The value of Total Catchment Area is: 640 sq.km\n",
            "The value of Mean Precipitation is: 8.41 mm\n"
          ]
        }
      ]
    }
  ]
}