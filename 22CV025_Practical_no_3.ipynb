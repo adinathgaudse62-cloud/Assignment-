{
  "nbformat": 4,
  "nbformat_minor": 0,
  "metadata": {
    "colab": {
      "provenance": [],
      "authorship_tag": "ABX9TyNT0L6tABYvRwh7GEzEcPEY",
      "include_colab_link": true
    },
    "kernelspec": {
      "name": "python3",
      "display_name": "Python 3"
    },
    "language_info": {
      "name": "python"
    }
  },
  "cells": [
    {
      "cell_type": "markdown",
      "metadata": {
        "id": "view-in-github",
        "colab_type": "text"
      },
      "source": [
        "<a href=\"https://colab.research.google.com/github/adinathgaudse62-cloud/Assignment-/blob/main/22CV025_Practical_no_3.ipynb\" target=\"_parent\"><img src=\"https://colab.research.google.com/assets/colab-badge.svg\" alt=\"Open In Colab\"/></a>"
      ]
    },
    {
      "cell_type": "code",
      "execution_count": null,
      "metadata": {
        "colab": {
          "base_uri": "https://localhost:8080/"
        },
        "id": "iLdMlw0hUcIv",
        "outputId": "40739864-08bf-41aa-9a59-3fef26521984"
      },
      "outputs": [
        {
          "output_type": "stream",
          "name": "stdout",
          "text": [
            "Enter the value of design speed (km/hr): 65\n",
            "Enter the value of Radius of curvature (m): 220\n",
            "Enter the value of slope (1 in N): 150\n",
            "Enter the value of width of road including extra widening (m): 7.5\n",
            "Enter the maximum superelevation for plain terrain (in decimal): 0.07\n",
            "The value of calculated superelevation (ecal): 0.08535353535353535\n",
            "The length of transition curve (Ls): 39.37500000000001 meters\n"
          ]
        }
      ],
      "source": [
        "# Q1:-To Calculate the length of transition curve\n",
        "\n",
        "# Input Section\n",
        "V = int(input(\"Enter the value of design speed (km/hr): \"))\n",
        "R = int(input(\"Enter the value of Radius of curvature (m): \"))\n",
        "N = int(input(\"Enter the value of slope (1 in N): \"))\n",
        "W = float(input(\"Enter the value of width of road including extra widening (m): \"))\n",
        "emax = float(input(\"Enter the maximum superelevation for plain terrain (in decimal): \"))\n",
        "\n",
        "# Superelevation Calculation\n",
        "ecal = (V * V) / (225 * R)\n",
        "print(\"The value of calculated superelevation (ecal):\", ecal)\n",
        "\n",
        "# Final Superelevation used\n",
        "if ecal < emax:\n",
        "    e = ecal\n",
        "else:\n",
        "    e = emax\n",
        "\n",
        "# Transition Curve Length Calculation\n",
        "Ls = (e * N * W) / 2\n",
        "print(\"The length of transition curve (Ls):\", Ls, \"meters\")"
      ]
    },
    {
      "cell_type": "code",
      "source": [
        "# Q2:-# Calculating 10 year EWS and triffic index value\n",
        "import numpy as np\n",
        "\n",
        "# Input constants\n",
        "R = int(input(\"Constant R: \"))\n",
        "C = int(input(\"Constant C: \"))\n",
        "\n",
        "# Input for data list sizes\n",
        "num_ewl = int(input(\"Total Data Values for EWL Constant: \"))\n",
        "num_aadt = int(input(\"Total Data Values for AADT: \"))\n",
        "\n",
        "# Lists to store EWL Constants and AADT values\n",
        "EWL_Constant = []\n",
        "AADT = []\n",
        "\n",
        "# Collect EWL Constants\n",
        "for i in range(num_ewl):\n",
        "    value = float(input(f\"Enter EWL Constant {i+1}: \"))\n",
        "    EWL_Constant.append(value)\n",
        "\n",
        "# Collect AADT values\n",
        "for j in range(num_aadt):\n",
        "    value = float(input(f\"Enter AADT {j+1}: \"))\n",
        "    AADT.append(value)\n",
        "\n",
        "# Check if both lists have the same length before dot product\n",
        "if len(EWL_Constant) != len(AADT):\n",
        "    print(\"Error: Number of EWL and AADT values must be the same for dot product.\")\n",
        "else:\n",
        "    # Dot product to get Total EWL\n",
        "    product = np.dot(EWL_Constant, AADT)\n",
        "    Total_EWL = product\n",
        "    print(\"Total EWL:\", Total_EWL)\n",
        "\n",
        "    # EWL after 60 years\n",
        "    EWL_60_years = Total_EWL * 1.6\n",
        "    print(\"EWL after 60 years:\", EWL_60_years)\n",
        "\n",
        "    # Traffic Index calculation\n",
        "    TI = 1.35 * ((EWL_60_years + (product / 2)) ** 0.11)\n",
        "    print(\"Traffic Index:\", TI)\n",
        "\n",
        "    # Pavement Thickness calculation\n",
        "    Thickness = 0.166 * TI * ((99 - R) / (C ** 0.2))\n",
        "    print(\"Pavement Thickness:\", Thickness, \"cm\")"
      ],
      "metadata": {
        "id": "MPEagBENVTGv",
        "colab": {
          "base_uri": "https://localhost:8080/"
        },
        "outputId": "5d6abb9d-d07d-41bc-cf7e-1e959d4bc106"
      },
      "execution_count": null,
      "outputs": [
        {
          "output_type": "stream",
          "name": "stdout",
          "text": [
            "Constant R: 48\n",
            "Constant C: 16\n",
            "Total Data Values for EWL Constant: 4\n",
            "Total Data Values for AADT: 4\n",
            "Enter EWL Constant 1: 330\n",
            "Enter EWL Constant 2: 1070\n",
            "Enter EWL Constant 3: 2460\n",
            "Enter EWL Constant 4: 4620\n",
            "Enter AADT 1: 3750\n",
            "Enter AADT 2: 470\n",
            "Enter AADT 3: 320\n",
            "Enter AADT 4: 120\n",
            "Total EWL: 3082000.0\n",
            "EWL after 60 years: 4931200.0\n",
            "Traffic Index: 7.577910657490486\n",
            "Pavement Thickness: 36.847136933326986 cm\n"
          ]
        }
      ]
    },
    {
      "cell_type": "code",
      "source": [
        "# Q3:- CBR test was conducted for soil subgrade\n",
        "# Input Section\n",
        "P = float(input(\"Enter the Load in kg: \"))\n",
        "p = float(input(\"Enter the Tyre pressure in kg/cm^2: \"))\n",
        "M = int(input(\"Total Number of layers in a given Pavement: \"))\n",
        "pi = 3.14159\n",
        "\n",
        "# Process each layer\n",
        "for i in range(1, M + 1):\n",
        "    print(f\"\\nLayer {i}:\")\n",
        "    CBR_value = float(input(\"Enter California Bearing Ratio (CBR) of material in %: \"))\n",
        "\n",
        "    # Calculate thickness above this layer\n",
        "    T = ((1.75 * P) / CBR_value - (P / (p * pi))) ** 0.5\n",
        "    print(\"Thickness Above this layer: {:.2f} cm\".format(T))\n",
        "\n",
        "# Additional Info\n",
        "print(\"\\nGiven that bitumen layer of 4 cm is already provided.\")"
      ],
      "metadata": {
        "id": "Zdp_hrr4WO5W",
        "colab": {
          "base_uri": "https://localhost:8080/"
        },
        "outputId": "d6fe0c08-0935-4142-a09b-9cd8f734a94c"
      },
      "execution_count": null,
      "outputs": [
        {
          "output_type": "stream",
          "name": "stdout",
          "text": [
            "Enter the Load in kg: 4085\n",
            "Enter the Tyre pressure in kg/cm^2: 7\n",
            "Total Number of layers in a given Pavement: 3\n",
            "\n",
            "Layer 1:\n",
            "Enter California Bearing Ratio (CBR) of material in %: 4.38\n",
            "Thickness Above this layer: 38.03 cm\n",
            "\n",
            "Layer 2:\n",
            "Enter California Bearing Ratio (CBR) of material in %: 6\n",
            "Thickness Above this layer: 31.71 cm\n",
            "\n",
            "Layer 3:\n",
            "Enter California Bearing Ratio (CBR) of material in %: 12\n",
            "Thickness Above this layer: 20.25 cm\n",
            "\n",
            "Given that bitumen layer of 4 cm is already provided.\n"
          ]
        }
      ]
    },
    {
      "cell_type": "code",
      "source": [],
      "metadata": {
        "id": "jenqWqeHSEM8"
      },
      "execution_count": null,
      "outputs": []
    }
  ]
}