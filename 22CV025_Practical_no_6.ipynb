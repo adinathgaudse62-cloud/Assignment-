{
  "nbformat": 4,
  "nbformat_minor": 0,
  "metadata": {
    "colab": {
      "provenance": [],
      "authorship_tag": "ABX9TyP4kPAI3le9K3Ll5xYmUKv7",
      "include_colab_link": true
    },
    "kernelspec": {
      "name": "python3",
      "display_name": "Python 3"
    },
    "language_info": {
      "name": "python"
    }
  },
  "cells": [
    {
      "cell_type": "markdown",
      "metadata": {
        "id": "view-in-github",
        "colab_type": "text"
      },
      "source": [
        "<a href=\"https://colab.research.google.com/github/adinathgaudse62-cloud/Assignment-/blob/main/22CV025_Practical_no_6.ipynb\" target=\"_parent\"><img src=\"https://colab.research.google.com/assets/colab-badge.svg\" alt=\"Open In Colab\"/></a>"
      ]
    },
    {
      "cell_type": "code",
      "execution_count": null,
      "metadata": {
        "id": "Of5hPLFemFM2"
      },
      "outputs": [],
      "source": []
    },
    {
      "cell_type": "code",
      "source": [
        "# Stree When Depth is Constant\n",
        "Q = int(input(\"Enter the value of Laod in kN :\"))\n",
        "N = int(input(\"Number of Data values of Radial distance :\"))\n",
        "Z = int(input(\"Enter the value of Depth :\"))\n",
        "r = []\n",
        "for i in range (1,N+1):\n",
        "  print(\"Enter radial distance in m\".format(i))\n",
        "  Value_r = float(input())\n",
        "  r.append(Value_r)\n",
        "  Stress = round((((3*Q)/(2*3.14*Z*Z))*(((1/(1+((Value_r/Z)**2))))**2.5)),3)\n",
        "  print(\"Stress =\",Stress,\"kN/m2\")"
      ],
      "metadata": {
        "colab": {
          "base_uri": "https://localhost:8080/"
        },
        "id": "EvjlWyDNZ04w",
        "outputId": "e34d28c4-ae51-446a-e148-707b8bd8dd84"
      },
      "execution_count": null,
      "outputs": [
        {
          "output_type": "stream",
          "name": "stdout",
          "text": [
            "Enter the value of Laod in kN :2500\n",
            "Number of Data values of Radial distance :5\n",
            "Enter the value of Depth :6\n",
            "Enter radial distance in m\n",
            "1\n",
            "Stress = 30.978 kN/m2\n",
            "Enter radial distance in m\n",
            "2\n",
            "Stress = 25.492 kN/m2\n",
            "Enter radial distance in m\n",
            "3\n",
            "Stress = 18.99 kN/m2\n",
            "Enter radial distance in m\n",
            "4\n",
            "Stress = 13.23 kN/m2\n",
            "Enter radial distance in m\n",
            "5\n",
            "Stress = 8.876 kN/m2\n"
          ]
        }
      ]
    },
    {
      "cell_type": "code",
      "source": [],
      "metadata": {
        "id": "bcuFDaDMmVA2"
      },
      "execution_count": null,
      "outputs": []
    },
    {
      "cell_type": "code",
      "source": [
        "# Stree When Depth is Constant\n",
        "Q = int(input(\"Enter the value of Laod in kN :\"))\n",
        "N = int(input(\"Number of Data values of Radial distance :\"))\n",
        "Z = int(input(\"Enter the value of Depth :\"))\n",
        "r = []\n",
        "for i in range (1,N+1):\n",
        "  print(\"Enter radial distance in m\".format(i))\n",
        "  Value_r = float(input())\n",
        "  r.append(Value_r)\n",
        "  Stress = round((((3*Q)/(2*3.14*Z*Z))*(((1/(1+((Value_r/Z)**2))))**2.5)),3)\n",
        "  print(\"Stress =\",Stress,\"kN/m2\")"
      ],
      "metadata": {
        "colab": {
          "base_uri": "https://localhost:8080/"
        },
        "outputId": "e34d28c4-ae51-446a-e148-707b8bd8dd84",
        "id": "urXfxYvimYbx"
      },
      "execution_count": null,
      "outputs": [
        {
          "output_type": "stream",
          "name": "stdout",
          "text": [
            "Enter the value of Laod in kN :2500\n",
            "Number of Data values of Radial distance :5\n",
            "Enter the value of Depth :6\n",
            "Enter radial distance in m\n",
            "1\n",
            "Stress = 30.978 kN/m2\n",
            "Enter radial distance in m\n",
            "2\n",
            "Stress = 25.492 kN/m2\n",
            "Enter radial distance in m\n",
            "3\n",
            "Stress = 18.99 kN/m2\n",
            "Enter radial distance in m\n",
            "4\n",
            "Stress = 13.23 kN/m2\n",
            "Enter radial distance in m\n",
            "5\n",
            "Stress = 8.876 kN/m2\n"
          ]
        }
      ]
    }
  ]
}