{
  "nbformat": 4,
  "nbformat_minor": 0,
  "metadata": {
    "colab": {
      "provenance": [],
      "authorship_tag": "ABX9TyNjxSL03Cu00zkMrVa+iU02",
      "include_colab_link": true
    },
    "kernelspec": {
      "name": "python3",
      "display_name": "Python 3"
    },
    "language_info": {
      "name": "python"
    }
  },
  "cells": [
    {
      "cell_type": "markdown",
      "metadata": {
        "id": "view-in-github",
        "colab_type": "text"
      },
      "source": [
        "<a href=\"https://colab.research.google.com/github/adinathgaudse62-cloud/Assignment-/blob/main/22_CVO25_Practical_no_1.ipynb\" target=\"_parent\"><img src=\"https://colab.research.google.com/assets/colab-badge.svg\" alt=\"Open In Colab\"/></a>"
      ]
    },
    {
      "cell_type": "code",
      "execution_count": null,
      "metadata": {
        "id": "EIkZnuwezvjv",
        "colab": {
          "base_uri": "https://localhost:8080/"
        },
        "outputId": "4f120dcf-0b43-45a5-aa80-b8e971dda3a4"
      },
      "outputs": [
        {
          "output_type": "stream",
          "name": "stdout",
          "text": [
            "Enter the value of Discharge : 4.8\n",
            "Enter the value of Top Width : 2\n",
            "Enter the value of acceleration due to Gravity : 9.81\n",
            "Enter the value of Upstream Depth : 1.60\n",
            "Enter the Value of Hump Height : 0.1\n",
            "The value of discharge per meter width is: 2.4\n",
            "The value of upstream area is: 3.2\n",
            "The value of Froude number is: 0.3786140830096141\n",
            "The flow is Sub Critical Flow\n",
            "The value of Energy at initial Section is: 1.714678899082569\n",
            "The value of downstream Energy E2 is: 1.614678899082569\n",
            "The value of critical depth is: 0.837370824744677\n",
            "The value of critical Energy is: 1.2560562371170154\n",
            "SAFE\n",
            "The value of maximum hump height (Zmax) is: 0.45862266196555357\n"
          ]
        }
      ],
      "source": [
        "# Q1: To find downstream depth of open channel\n",
        "\n",
        "# Give Data\n",
        "Q = float(input(\"Enter the value of Discharge : \"))\n",
        "T = float(input(\"Enter the value of Top Width : \"))\n",
        "g = float(input(\"Enter the value of acceleration due to Gravity : \"))\n",
        "y1 = float(input(\"Enter the value of Upstream Depth : \"))\n",
        "Z = float(input(\"Enter the Value of Hump Height : \"))\n",
        "\n",
        "# Discharge per meter width\n",
        "q = Q / T\n",
        "print(\"The value of discharge per meter width is:\", q)\n",
        "\n",
        "# Area Calculation\n",
        "A1 = T * y1\n",
        "print(\"The value of upstream area is:\", A1)\n",
        "\n",
        "# Calculation of Froude Number\n",
        "Fr1 = ((Q * Q * T) / (g * A1 * A1 * A1)) ** 0.5\n",
        "print(\"The value of Froude number is:\", Fr1)\n",
        "\n",
        "if Fr1 > 1:\n",
        "    print(\"The flow is Super Critical Flow\")\n",
        "else:\n",
        "    print(\"The flow is Sub Critical Flow\")\n",
        "\n",
        "# Upstream Energy\n",
        "E1 = y1 + (Q * Q) / (2 * g * A1 * A1)\n",
        "print(\"The value of Energy at initial Section is:\", E1)\n",
        "\n",
        "# Downstream Energy\n",
        "E2 = E1 - Z\n",
        "print(\"The value of downstream Energy E2 is:\", E2)\n",
        "\n",
        "# Critical Depth (Assuming a rectangular channel, yc = (q^2/g)^(1/3))\n",
        "yc = (q ** 2 / g) ** (1 / 3)\n",
        "print(\"The value of critical depth is:\", yc)\n",
        "\n",
        "# Critical Energy (Ec = 1.5 * yc for rectangular channel)\n",
        "Ec = 1.5 * yc\n",
        "print(\"The value of critical Energy is:\", Ec)\n",
        "\n",
        "if Ec > E2:\n",
        "    print(\"Choking Condition\")\n",
        "else:\n",
        "    print(\"SAFE\")\n",
        "\n",
        "# Calculation of Zmax\n",
        "Zmax = E1 - Ec\n",
        "print(\"The value of maximum hump height (Zmax) is:\", Zmax)\n"
      ]
    },
    {
      "cell_type": "code",
      "source": [
        "#Q2:\n",
        "\n",
        "# To find the downstream depth of open channel\n",
        "# Given Data\n",
        "Q = float(input(\"Enter the value of Discharge:\"))\n",
        "B1 = float(input(\"Enter the value of width at upstream: \"))\n",
        "B2 = float(input(\"Enter the value of width at downstream: \"))\n",
        "g= float(input(\"Enter the value of acceleration due to Gravity:\"))\n",
        "y1= float(input(\"enter the value of upstream depth:\"))\n",
        "\n",
        "# Dicharge per meter width\n",
        "q1=Q/B1\n",
        "q2= Q/B2\n",
        "print (\"The value of discharge per meter width is:\", q1)\n",
        "print (\"The value of discharge per meter width is:\", q2)\n",
        "\n",
        "# Area Calculation\n",
        "A1 = B1*y1\n",
        "print (\"The value of upstream area is:\", A1)\n",
        "\n",
        "# Calculation of Froude Number\n",
        "Fr1 = ((Q*Q*B1)/(g*A1*A1*A1)) **0.5\n",
        "print (\"The value of Froude number is:\", Fr1)\n",
        "if Fr1>1:\n",
        " print(\"The flow is Super Critical Flow\")\n",
        "else:\n",
        " print(\"The flow is Sub Critical Flow\")\n",
        "\n",
        "# Upstream Energy\n",
        "E1 = y1 + (Q*Q)/(2*g*A1*A1)\n",
        "print (\"The value of Energy at initial Section is:\", E1)\n",
        "# Minimum width to avoid choking condition\n",
        "B2min = (27*Q*Q/(8*g*E1*E1*E1)) **0.5\n",
        "print (\"The value of minimum width to be kept to avoid Chocking is:\", B2min)\n",
        "if B2min > B2:\n",
        " print(\"Chocking Condition\")\n",
        "else:\n",
        " print (\"SAFE\")\n",
        "\n",
        "# Critical Depth\n",
        "yc = ((Q*Q)/(B2*B2*g)) **(1/3)\n",
        "print (\"The Value of critical depth is: \", yc)\n",
        "Ec = 1.5*yc\n",
        "print (\"The value of critical Energy is\", Ec)"
      ],
      "metadata": {
        "id": "OK9c948o61c7",
        "colab": {
          "base_uri": "https://localhost:8080/"
        },
        "outputId": "10488205-493c-4b07-bc5c-c3b4f1eedff4"
      },
      "execution_count": null,
      "outputs": [
        {
          "output_type": "stream",
          "name": "stdout",
          "text": [
            "Enter the value of Discharge:15\n",
            "Enter the value of width at upstream: 3.5\n",
            "Enter the value of width at downstream: 2.5\n",
            "Enter the value of acceleration due to Gravity:9.81\n",
            "enter the value of upstream depth:2\n",
            "The value of discharge per meter width is: 4.285714285714286\n",
            "The value of discharge per meter width is: 6.0\n",
            "The value of upstream area is: 7.0\n",
            "The value of Froude number is: 0.4837753296275688\n",
            "The flow is Sub Critical Flow\n",
            "The value of Energy at initial Section is: 2.234038569556263\n",
            "The value of minimum width to be kept to avoid Chocking is: 2.634860603070728\n",
            "Chocking Condition\n",
            "The Value of critical depth is:  1.5424502472009343\n",
            "The value of critical Energy is 2.3136753708014015\n"
          ]
        }
      ]
    },
    {
      "cell_type": "code",
      "source": [
        "# Q3: Design of Efficient Channel Section\n",
        "\n",
        "# Input Data\n",
        "Q = float(input(\"Enter the value of Discharge (Q in m³/s): \"))\n",
        "n = float(input(\"Enter the value of Rugosity coefficient (n): \"))\n",
        "So = float(input(\"Enter the value of bed slope (So): \"))\n",
        "g = float(input(\"Enter the value of acceleration due to Gravity (g in m/s²): \"))\n",
        "\n",
        "# Manning's formula approximation for efficient triangular channel\n",
        "# Depth for most efficient triangular channel section\n",
        "# Using derived empirical formula for triangular channel:\n",
        "# yn = ((Q * n * 50 * 1.591) / 1.732) ** (3/8)\n",
        "\n",
        "yn = ((Q * n * 50 * 1.591) / 1.732) ** (3 / 8)\n",
        "print(\"The value of normal depth (yn) is:\", yn)\n",
        "\n",
        "# To account for the effect of freeboard\n",
        "yn1 = 1.1 * yn\n",
        "print(\"The value of depth including freeboard (yn1) is:\", yn1)\n",
        "\n",
        "# Cross-sectional Area A = 1.732 * yn * yn1\n",
        "A = 1.732 * yn * yn1\n",
        "print(\"The cross-sectional area (A) is:\", A)\n",
        "\n",
        "# Top Width T = 4 * yn / 1.732\n",
        "T = 4 * yn / 1.732\n",
        "print(\"The value of Top Width (T) is:\", T)\n",
        "\n",
        "# Bottom Width B = 2 * yn / 1.732\n",
        "B = 2 * yn / 1.732\n",
        "print(\"The value of Bottom Width (B) is:\", B)\n",
        "\n",
        "# Froude number calculation: Fr = (Q^2) / (g * A^3))^0.5\n",
        "Fr = ((Q ** 2) / (g * A ** 3)) ** 0.5\n",
        "print(\"The value of Froude Number (Fr) is:\", Fr)\n",
        "\n",
        "# Flow type\n",
        "if Fr > 1:\n",
        "    print(\"The flow is Super Critical Flow\")\n",
        "else:\n",
        "    print(\"The flow is Sub Critical Flow\")\n"
      ],
      "metadata": {
        "id": "PbC10CsTtxVs",
        "colab": {
          "base_uri": "https://localhost:8080/"
        },
        "outputId": "f42cdc8d-7cfa-4f9c-e9a2-c0aebcc79356"
      },
      "execution_count": null,
      "outputs": [
        {
          "output_type": "stream",
          "name": "stdout",
          "text": [
            "Enter the value of Discharge (Q in m³/s): 100\n",
            "Enter the value of Rugosity coefficient (n): 0.015\n",
            "Enter the value of bed slope (So): 0.0004\n",
            "Enter the value of acceleration due to Gravity (g in m/s²): 9.81\n",
            "The value of normal depth (yn) is: 4.89011230647273\n",
            "The value of depth including freeboard (yn1) is: 5.3791235371200035\n",
            "The cross-sectional area (A) is: 45.559425534364046\n",
            "The value of Top Width (T) is: 11.293561908713002\n",
            "The value of Bottom Width (B) is: 5.646780954356501\n",
            "The value of Froude Number (Fr) is: 0.10382409095404235\n",
            "The flow is Sub Critical Flow\n"
          ]
        }
      ]
    }
  ]
}