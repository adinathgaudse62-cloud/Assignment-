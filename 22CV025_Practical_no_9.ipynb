{
  "nbformat": 4,
  "nbformat_minor": 0,
  "metadata": {
    "colab": {
      "provenance": [],
      "authorship_tag": "ABX9TyO3bbgO9dXFryKRytOM0gj+",
      "include_colab_link": true
    },
    "kernelspec": {
      "name": "python3",
      "display_name": "Python 3"
    },
    "language_info": {
      "name": "python"
    }
  },
  "cells": [
    {
      "cell_type": "markdown",
      "metadata": {
        "id": "view-in-github",
        "colab_type": "text"
      },
      "source": [
        "<a href=\"https://colab.research.google.com/github/adinathgaudse62-cloud/Assignment-/blob/main/22CV025_Practical_no_9.ipynb\" target=\"_parent\"><img src=\"https://colab.research.google.com/assets/colab-badge.svg\" alt=\"Open In Colab\"/></a>"
      ]
    },
    {
      "cell_type": "code",
      "execution_count": null,
      "metadata": {
        "id": "3A-W8X56rNB9",
        "colab": {
          "base_uri": "https://localhost:8080/"
        },
        "outputId": "7ab5704a-0f13-4a30-8f97-8df32dbe47fd"
      },
      "outputs": [
        {
          "output_type": "stream",
          "name": "stdout",
          "text": [
            "Decay Coefficient :0.23\n",
            "Temperature of 3rd day BOD :20\n",
            "Temperature of 7th day BOD :25\n",
            "The value of k2 is : 0.289\n",
            "The value of e is : 2.718\n",
            "BOD at 3rd day 20c :50\n",
            "time in days for finding B1 :3\n",
            "The value of E is : 0.498\n",
            "The value of l0 is : 100.402\n",
            "time in days for findinf B2 :7\n",
            "The value of E1 is : 0.868\n",
            "The value of BOD at 7th day 25C is : 87.149\n"
          ]
        }
      ],
      "source": [
        "#Q1\n",
        "# To find BOD at 7th day 25C\n",
        "# To find Decay Coefficient at 25C\n",
        "K = float(input(\"Decay Coefficient :\"))\n",
        "T = float(input(\"Temperature of 3rd day BOD :\"))\n",
        "TI = float(input(\"Temperature of 7th day BOD :\"))\n",
        "K2 = round((K * (1.047**(TI-T))),3)\n",
        "print (\"The value of k2 is :\", K2)\n",
        "\n",
        "# To find Ultimate BOD\n",
        "e = 2.718\n",
        "print (\"The value of e is :\",e)\n",
        "B1 = float(input(\"BOD at 3rd day 20c :\"))\n",
        "t = float(input(\"time in days for finding B1 :\"))\n",
        "E = round((1 - 2.71828 ** (-0.23 * t)),3)\n",
        "print (\"The value of E is :\", E)\n",
        "l0 = round((B1 / E),3)\n",
        "print (\"The value of l0 is :\", l0)\n",
        "\n",
        "# To find BOD at 7th day 25C\n",
        "t1 = float(input(\"time in days for findinf B2 :\"))\n",
        "E1 = round((1 - e ** (-0.289 * t1)),3)\n",
        "print (\"The value of E1 is :\", E1)\n",
        "B2 = round((l0 * E1),3)\n",
        "print (\"The value of BOD at 7th day 25C is :\", B2)"
      ]
    },
    {
      "cell_type": "code",
      "source": [
        "#Q2\n",
        "#Determination if density of sludge removed from aeration tank\n",
        "M = float(input(\"Enter the value of initial mass : \"))\n",
        "S = float(input(\"Enter the value of solid containing sludge in percentage :\"))\n",
        "Gs = float(input(\"Enter the value of Specific gravity of sludge solid :\"))\n",
        "Rho_W = float(input(\"Enter the value of density of water :\"))\n",
        "Ws = ((S/M)*100)\n",
        "m = M- Ws\n",
        "print(\"the value of mass of water :\",round(m,3))\n",
        "print(\"The value of Solid Content in sludge :\",round(Ws,3))\n",
        "Vw = m/Rho_W\n",
        "print (\"The Value of Volume :\", round(Vw,3))\n",
        "Rho_S = Gs * Rho_W\n",
        "print(\"The value of Density of solid content in sludge :\",round(Rho_S,3))\n",
        "Vs = (Ws/(Gs*Rho_S ))\n",
        "print(\"The value of volume of solid content in sludge :\",round(Vs,3))\n",
        "Vt = Vw + Vs\n",
        "print(\"The value of total volume of solid content in sludge \", round(Vt,3))\n",
        "Rho_SL = M/ Vt\n",
        "print(\"The value of Density of sludge removed from aeration :\", round(Rho_SL,3))"
      ],
      "metadata": {
        "colab": {
          "base_uri": "https://localhost:8080/"
        },
        "id": "nrRqHMPsrVWD",
        "outputId": "66487a03-3452-4b36-edb1-3d8158e9609f"
      },
      "execution_count": null,
      "outputs": [
        {
          "output_type": "stream",
          "name": "stdout",
          "text": [
            "Enter the value of initial mass : 100\n",
            "Enter the value of solid containing sludge in percentage :2\n",
            "Enter the value of Specific gravity of sludge solid :2.2\n",
            "Enter the value of density of water :1000\n",
            "the value of mass of water : 98.0\n",
            "The value of Solid Content in sludge : 2.0\n",
            "The Value of Volume : 0.098\n",
            "The value of Density of solid content in sludge : 2200.0\n",
            "The value of volume of solid content in sludge : 0.0\n",
            "The value of total volume of solid content in sludge  0.098\n",
            "The value of Density of sludge removed from aeration : 1016.124\n"
          ]
        }
      ]
    }
  ]
}